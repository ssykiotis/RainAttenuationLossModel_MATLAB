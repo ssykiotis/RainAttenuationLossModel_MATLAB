{
 "cells": [
  {
   "cell_type": "code",
   "execution_count": 1,
   "metadata": {},
   "outputs": [],
   "source": [
    "import csv\n",
    "import numpy as np"
   ]
  },
  {
   "cell_type": "code",
   "execution_count": 59,
   "metadata": {},
   "outputs": [],
   "source": [
    "with open('snow_exp.csv') as csv_file:\n",
    "    csv_reader = csv.reader(csv_file, delimiter=',')\n",
    "    vals = {}\n",
    "    for row in csv_reader:\n",
    "        vals[row[0]]=row[1]\n"
   ]
  },
  {
   "cell_type": "code",
   "execution_count": 60,
   "metadata": {
    "scrolled": false
   },
   "outputs": [],
   "source": [
    "old_key = '\\ufeff20030104 18:00'\n",
    "new_key = '20030104 18:00'\n",
    "vals[new_key] = vals.pop(old_key)\n",
    "data_sorted  = np.zeros(shape=(8760,11))\n"
   ]
  },
  {
   "cell_type": "code",
   "execution_count": 61,
   "metadata": {},
   "outputs": [],
   "source": [
    "monthdays = np.zeros(shape=(12))\n",
    "monthdays[0]=0\n",
    "monthdays[1]=31\n",
    "monthdays[2]=28\n",
    "monthdays[3]=31\n",
    "monthdays[4]=30\n",
    "monthdays[5]=31\n",
    "monthdays[6]=30\n",
    "monthdays[7]=31\n",
    "monthdays[8]=31\n",
    "monthdays[9]=30\n",
    "monthdays[10]=31\n",
    "monthdays[11]=30\n",
    "\n",
    "total_monthhours = 24*np.cumsum(monthdays)\n"
   ]
  },
  {
   "cell_type": "code",
   "execution_count": 62,
   "metadata": {
    "scrolled": true
   },
   "outputs": [],
   "source": [
    "for date in vals:\n",
    "    year = int(date[0:4])\n",
    "    month= int(date[4:6])\n",
    "    day  = int(date[6:8])\n",
    "    hour = int(date[9:11])\n",
    "    value = float(vals[date])\n",
    "    \n",
    "    col = int(year - 2003)\n",
    "    index = int(total_monthhours[month-1]+(day-1)*24+hour)\n",
    "    \n",
    "    data_sorted[index,col] = value\n"
   ]
  },
  {
   "cell_type": "code",
   "execution_count": 70,
   "metadata": {},
   "outputs": [],
   "source": [
    "\n",
    "import pandas as pd\n",
    "pd.DataFrame(data_sorted).to_csv(\"snow_pandas.csv\",header=None,index=None)"
   ]
  }
 ],
 "metadata": {
  "kernelspec": {
   "display_name": "Python 3",
   "language": "python",
   "name": "python3"
  },
  "language_info": {
   "codemirror_mode": {
    "name": "ipython",
    "version": 3
   },
   "file_extension": ".py",
   "mimetype": "text/x-python",
   "name": "python",
   "nbconvert_exporter": "python",
   "pygments_lexer": "ipython3",
   "version": "3.7.3"
  }
 },
 "nbformat": 4,
 "nbformat_minor": 2
}
